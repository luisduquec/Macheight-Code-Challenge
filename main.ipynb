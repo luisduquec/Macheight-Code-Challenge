{
 "cells": [
  {
   "cell_type": "code",
   "execution_count": 109,
   "metadata": {},
   "outputs": [],
   "source": [
    "import json\n",
    "import requests\n",
    "response = requests.get(\"https://mach-eight.uc.r.appspot.com/\")\n",
    "file = response.json()\n",
    "values = list(file.values())\n",
    "values_sorted = sorted(values[0], key = lambda p: p[\"h_in\"])\n",
    "\n",
    "def pairs_of_players(h_in):\n",
    "    if (h_in < int(values_sorted[0][\"h_in\"]) + int(values_sorted[1][\"h_in\"]))  or (h_in > int(values_sorted[-2][\"h_in\"]) + int(values_sorted[-1][\"h_in\"]))  :\n",
    "        return(\"No matches found\")\n",
    "    else:\n",
    "        pairs = [  ( \" \".join((i[\"first_name\"], i[\"last_name\"])), \" \".join((j[\"first_name\"], j[\"last_name\"])) ) for i in values_sorted for j in values_sorted if int(i[\"h_in\"]) + int(j[\"h_in\"]) == h_in ]\n",
    "        unique_pairs = dict(set(tuple(sorted(x)) for x in pairs))\n",
    "        if len(unique_pairs)==0:\n",
    "            return (\"No matches found\")\n",
    "        return (unique_pairs)\n",
    "def format_output(dicti):\n",
    "    try:\n",
    "        for k, v in dicti.items():\n",
    "            print(\"- {:<20} {:<20}\".format(k,v))\n",
    "    except:\n",
    "        print(dicti)\n",
    "        \n",
    "def _testing_pairs_of_players(my_dict,expected):\n",
    "    comparision = [(i in expected.items() or i in dict((y,x) for x,y in expected.items()).items()) for i in my_dict.items() if len(my_dict)==len(expected)]\n",
    "    return (all(comparision))\n",
    "##commented lines to allow unit tests to work correctly. Please remove the # below in case of executing the code\n",
    "#h_in = int(input(\"Hello and Welcome to the App!\\nPlease enter a number to see the pairs of players: \"))\n",
    "#format_output(pairs_of_players(h_in))"
   ]
  }
 ],
 "metadata": {
  "interpreter": {
   "hash": "dc4c7dc2c971ef6ae64852cc03cd4727a1a3ba00c628e980901e2d785b8a8bf1"
  },
  "kernelspec": {
   "display_name": "Python 3.9.7 64-bit ('base': conda)",
   "language": "python",
   "name": "python3"
  },
  "language_info": {
   "codemirror_mode": {
    "name": "ipython",
    "version": 3
   },
   "file_extension": ".py",
   "mimetype": "text/x-python",
   "name": "python",
   "nbconvert_exporter": "python",
   "pygments_lexer": "ipython3",
   "version": "3.9.7"
  },
  "orig_nbformat": 4
 },
 "nbformat": 4,
 "nbformat_minor": 2
}
