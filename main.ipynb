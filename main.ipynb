{
 "cells": [
  {
   "cell_type": "code",
   "execution_count": 244,
   "metadata": {},
   "outputs": [],
   "source": [
    "def pairs_of_players(h_in):\n",
    "    import json\n",
    "    import requests\n",
    "\n",
    "    response = requests.get(\"https://mach-eight.uc.r.appspot.com/\")\n",
    "    file = response.json()\n",
    "    values = list(file.values())\n",
    "    values = values[0]\n",
    "\n",
    "    pairs = [ [(i[\"first_name\"], i[\"last_name\"]), (j[\"first_name\"], j[\"last_name\"])] for i in values for j in values if int(i[\"h_in\"]) + int(j[\"h_in\"]) == h_in ][::2]\n",
    "    if len(pairs)>1:\n",
    "        answer =\"\"\n",
    "        for p in pairs:\n",
    "            answer = answer + str(\"- \" + \" \".join(p[0]) + \" \"*4 + \" \".join(p[1])) + \"\\n\"\n",
    "        return answer\n",
    "    else:\n",
    "        return(\"No matches found\")\n",
    "\n",
    "##commented lines to allow unit tests to work correctly. Please remove the # below in case of executing the code\n",
    "#h_in = int(input(\"Hello an Welcome to the App!\\nPlease enter a number to see the pairs of players: \"))\n",
    "#print(pairs_of_players(h_in))"
   ]
  }
 ],
 "metadata": {
  "interpreter": {
   "hash": "dc4c7dc2c971ef6ae64852cc03cd4727a1a3ba00c628e980901e2d785b8a8bf1"
  },
  "kernelspec": {
   "display_name": "Python 3.9.7 64-bit ('base': conda)",
   "language": "python",
   "name": "python3"
  },
  "language_info": {
   "codemirror_mode": {
    "name": "ipython",
    "version": 3
   },
   "file_extension": ".py",
   "mimetype": "text/x-python",
   "name": "python",
   "nbconvert_exporter": "python",
   "pygments_lexer": "ipython3",
   "version": "3.9.7"
  },
  "orig_nbformat": 4
 },
 "nbformat": 4,
 "nbformat_minor": 2
}
